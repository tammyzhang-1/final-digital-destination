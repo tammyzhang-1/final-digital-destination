{
 "cells": [
  {
   "cell_type": "code",
   "execution_count": null,
   "id": "066a07b5-f262-413d-934b-12fd38fcf3a0",
   "metadata": {},
   "outputs": [],
   "source": [
    "import pandas as pd\n",
    "import numpy as np\n",
    "import json"
   ]
  },
  {
   "cell_type": "code",
   "execution_count": null,
   "id": "405befc7-f0c9-41b1-8b42-c4362b8c9c90",
   "metadata": {},
   "outputs": [],
   "source": [
    "devices = pd.read_csv(\"devices.csv\")\n",
    "devices[\"certification\"] = devices[\"certification\"].replace({np.nan:\"None\"})\n",
    "devices.to_json(\"devices.json\", orient = \"records\" )"
   ]
  },
  {
   "cell_type": "code",
   "execution_count": null,
   "id": "3fd9fbf5-2e0d-4f44-8275-93709f368b10",
   "metadata": {},
   "outputs": [],
   "source": [
    "nodes = pd.read_csv(\"nodes.csv\")"
   ]
  },
  {
   "cell_type": "code",
   "execution_count": null,
   "id": "3a829606-28e4-4eeb-840e-01a189ecff78",
   "metadata": {},
   "outputs": [],
   "source": [
    "feature_collection_template = {\"type\": \"FeatureCollection\" }\n",
    "def create_feature(row):\n",
    "    coordinates = json.loads(row[\"coordinates\"])\n",
    "    return {\n",
    "        \"type\": \"Feature\",\n",
    "        \"geometry\": {\"type\": \"Point\", \"coordinates\": coordinates},\n",
    "        \"properties\": {\n",
    "            \"id\": row[\"id\"],\n",
    "            \"device_id\": row[\"device_id\"],\n",
    "            \"name\": row[\"name\"],\n",
    "            \"precise\": row[\"precise\"]\n",
    "        }\n",
    "    }\n",
    "\n",
    "feature_collection = nodes.apply(create_feature, axis=1).tolist()\n",
    "feature_collection_template[\"features\"] = feature_collection\n",
    "feature_json = feature_collection_template\n",
    "with open(\"nodes.geojson\", \"w\") as f:\n",
    "    json.dump(feature_json, f)"
   ]
  },
  {
   "cell_type": "code",
   "execution_count": null,
   "id": "83e35d6d-deff-4a83-911e-b98322fcba31",
   "metadata": {},
   "outputs": [],
   "source": [
    "nodes"
   ]
  },
  {
   "cell_type": "code",
   "execution_count": null,
   "id": "c418cbe3-b204-4d73-99ab-bf31f5ad574d",
   "metadata": {},
   "outputs": [],
   "source": [
    "feature_collection_template2 = {\"type\": \"FeatureCollection\" }\n",
    "\n",
    "def test(df):\n",
    "    return df.apply(create_feature2, axis=1)\n",
    "\n",
    "def create_feature2(row):\n",
    "    next_row_index = row[\"id\"] + 1\n",
    "    \n",
    "    if next_row_index < len(nodes) + 1:\n",
    "        next_row = nodes.iloc[next_row_index - 1]\n",
    "        next_coordinates = json.loads(next_row[\"coordinates\"])\n",
    "        coordinates = json.loads(row[\"coordinates\"])\n",
    "        cross = 0 if (coordinates[0] * next_coordinates[0] > 0) else 1\n",
    "        \n",
    "        return { \"type\": \"Feature\",\n",
    "          \"geometry\": {\n",
    "            \"type\": \"LineString\",\n",
    "            \"coordinates\": [coordinates, next_coordinates]\n",
    "            },\n",
    "          \"properties\": {\n",
    "            \"device_id\": row[\"device_id\"],\n",
    "            \"source_id\": int(row[\"id\"]),\n",
    "            \"target_id\": int(next_row[\"id\"]),\n",
    "            \"cross\": cross\n",
    "            }\n",
    "          }\n",
    "    return None"
   ]
  },
  {
   "cell_type": "code",
   "execution_count": null,
   "id": "5466c3d7-6646-4007-a838-0a623a4518f2",
   "metadata": {},
   "outputs": [],
   "source": [
    "edges = nodes.groupby(\"device_id\", as_index=False).apply(test).iloc[0, 1:-1].tolist()"
   ]
  },
  {
   "cell_type": "code",
   "execution_count": null,
   "id": "a4122f93-2237-464f-8a0e-8c2f0bb0c04b",
   "metadata": {},
   "outputs": [],
   "source": [
    "feature_collection_template = {\"type\": \"FeatureCollection\" }\n",
    "feature_collection_template[\"features\"] = edges\n",
    "feature_json = feature_collection_template\n",
    "with open(\"edges.geojson\", \"w\") as f:\n",
    "    json.dump(feature_json, f)"
   ]
  }
 ],
 "metadata": {
  "kernelspec": {
   "display_name": "Python 3 (ipykernel)",
   "language": "python",
   "name": "python3"
  },
  "language_info": {
   "codemirror_mode": {
    "name": "ipython",
    "version": 3
   },
   "file_extension": ".py",
   "mimetype": "text/x-python",
   "name": "python",
   "nbconvert_exporter": "python",
   "pygments_lexer": "ipython3",
   "version": "3.11.7"
  }
 },
 "nbformat": 4,
 "nbformat_minor": 5
}
